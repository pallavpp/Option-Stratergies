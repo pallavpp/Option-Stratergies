{
  "nbformat": 4,
  "nbformat_minor": 0,
  "metadata": {
    "kernelspec": {
      "display_name": "Python 3",
      "language": "python",
      "name": "python3"
    },
    "language_info": {
      "codemirror_mode": {
        "name": "ipython",
        "version": 3
      },
      "file_extension": ".py",
      "mimetype": "text/x-python",
      "name": "python",
      "nbconvert_exporter": "python",
      "pygments_lexer": "ipython3",
      "version": "3.7.3"
    },
    "colab": {
      "name": "Submission.ipynb",
      "provenance": []
    }
  },
  "cells": [
    {
      "cell_type": "markdown",
      "metadata": {
        "id": "yq6nvKDD4B2k"
      },
      "source": [
        "## Importing important libraries"
      ]
    },
    {
      "cell_type": "code",
      "metadata": {
        "colab": {
          "base_uri": "https://localhost:8080/"
        },
        "id": "qO5tQ36t4B2k",
        "outputId": "c13c8642-9503-46b2-85c2-3856d04e8a2b"
      },
      "source": [
        "#pip install py_vollib\n",
        "!pip install yfinance\n",
        "!pip install py_vollib"
      ],
      "execution_count": 1,
      "outputs": [
        {
          "output_type": "stream",
          "text": [
            "Collecting yfinance\n",
            "  Downloading https://files.pythonhosted.org/packages/79/bd/d64719da8f5367f4d8b16e83507fa1d90942f433f748a4cf3ed7aa515d14/yfinance-0.1.63.tar.gz\n",
            "Requirement already satisfied: pandas>=0.24 in /usr/local/lib/python3.7/dist-packages (from yfinance) (1.1.5)\n",
            "Requirement already satisfied: numpy>=1.15 in /usr/local/lib/python3.7/dist-packages (from yfinance) (1.19.5)\n",
            "Requirement already satisfied: requests>=2.20 in /usr/local/lib/python3.7/dist-packages (from yfinance) (2.23.0)\n",
            "Requirement already satisfied: multitasking>=0.0.7 in /usr/local/lib/python3.7/dist-packages (from yfinance) (0.0.9)\n",
            "Collecting lxml>=4.5.1\n",
            "\u001b[?25l  Downloading https://files.pythonhosted.org/packages/30/c0/d0526314971fc661b083ab135747dc68446a3022686da8c16d25fcf6ef07/lxml-4.6.3-cp37-cp37m-manylinux2014_x86_64.whl (6.3MB)\n",
            "\u001b[K     |████████████████████████████████| 6.3MB 7.3MB/s \n",
            "\u001b[?25hRequirement already satisfied: pytz>=2017.2 in /usr/local/lib/python3.7/dist-packages (from pandas>=0.24->yfinance) (2018.9)\n",
            "Requirement already satisfied: python-dateutil>=2.7.3 in /usr/local/lib/python3.7/dist-packages (from pandas>=0.24->yfinance) (2.8.1)\n",
            "Requirement already satisfied: idna<3,>=2.5 in /usr/local/lib/python3.7/dist-packages (from requests>=2.20->yfinance) (2.10)\n",
            "Requirement already satisfied: certifi>=2017.4.17 in /usr/local/lib/python3.7/dist-packages (from requests>=2.20->yfinance) (2021.5.30)\n",
            "Requirement already satisfied: urllib3!=1.25.0,!=1.25.1,<1.26,>=1.21.1 in /usr/local/lib/python3.7/dist-packages (from requests>=2.20->yfinance) (1.24.3)\n",
            "Requirement already satisfied: chardet<4,>=3.0.2 in /usr/local/lib/python3.7/dist-packages (from requests>=2.20->yfinance) (3.0.4)\n",
            "Requirement already satisfied: six>=1.5 in /usr/local/lib/python3.7/dist-packages (from python-dateutil>=2.7.3->pandas>=0.24->yfinance) (1.15.0)\n",
            "Building wheels for collected packages: yfinance\n",
            "  Building wheel for yfinance (setup.py) ... \u001b[?25l\u001b[?25hdone\n",
            "  Created wheel for yfinance: filename=yfinance-0.1.63-py2.py3-none-any.whl size=23919 sha256=4d9822bac576fbd64bd50aed0eb061e2cde845e1301c7e47d5fb29afafe40f29\n",
            "  Stored in directory: /root/.cache/pip/wheels/fe/a0/79/b73d4a0c535b421b88fc7b393936b371fabbfeaf979eca4050\n",
            "Successfully built yfinance\n",
            "Installing collected packages: lxml, yfinance\n",
            "  Found existing installation: lxml 4.2.6\n",
            "    Uninstalling lxml-4.2.6:\n",
            "      Successfully uninstalled lxml-4.2.6\n",
            "Successfully installed lxml-4.6.3 yfinance-0.1.63\n",
            "Collecting py_vollib\n",
            "  Downloading https://files.pythonhosted.org/packages/b0/3c/26bd8cbaab3bd004a44157675fa8fe135f95fd4c62898c60c1670c339ba7/py_vollib-1.0.1.tar.gz\n",
            "Collecting py_lets_be_rational\n",
            "  Downloading https://files.pythonhosted.org/packages/58/bf/b292f35a4a2f0c02f4926442bd04d24c2a509749fb5e8e52190ac7ae3731/py_lets_be_rational-1.0.1.tar.gz\n",
            "Collecting simplejson\n",
            "\u001b[?25l  Downloading https://files.pythonhosted.org/packages/34/f4/9473611e019962edbdc35b69f60363e605f21750c4b75d148560d1c63db0/simplejson-3.17.3-cp37-cp37m-manylinux_2_5_x86_64.manylinux1_x86_64.manylinux_2_12_x86_64.manylinux2010_x86_64.whl (129kB)\n",
            "\u001b[K     |████████████████████████████████| 133kB 7.1MB/s \n",
            "\u001b[?25hRequirement already satisfied: numpy in /usr/local/lib/python3.7/dist-packages (from py_vollib) (1.19.5)\n",
            "Requirement already satisfied: pandas in /usr/local/lib/python3.7/dist-packages (from py_vollib) (1.1.5)\n",
            "Requirement already satisfied: scipy in /usr/local/lib/python3.7/dist-packages (from py_vollib) (1.4.1)\n",
            "Requirement already satisfied: python-dateutil>=2.7.3 in /usr/local/lib/python3.7/dist-packages (from pandas->py_vollib) (2.8.1)\n",
            "Requirement already satisfied: pytz>=2017.2 in /usr/local/lib/python3.7/dist-packages (from pandas->py_vollib) (2018.9)\n",
            "Requirement already satisfied: six>=1.5 in /usr/local/lib/python3.7/dist-packages (from python-dateutil>=2.7.3->pandas->py_vollib) (1.15.0)\n",
            "Building wheels for collected packages: py-vollib, py-lets-be-rational\n",
            "  Building wheel for py-vollib (setup.py) ... \u001b[?25l\u001b[?25hdone\n",
            "  Created wheel for py-vollib: filename=py_vollib-1.0.1-cp37-none-any.whl size=62856 sha256=88cec46ea9b9f0079580101b87c4f947c1250d525070d296ebc4ffb11f90d78c\n",
            "  Stored in directory: /root/.cache/pip/wheels/31/7f/5d/abd43b8427abf03acc59e688fb8e411b8108a937398966894f\n",
            "  Building wheel for py-lets-be-rational (setup.py) ... \u001b[?25l\u001b[?25hdone\n",
            "  Created wheel for py-lets-be-rational: filename=py_lets_be_rational-1.0.1-cp37-none-any.whl size=24467 sha256=56c8a9b833d74d91af4a0e6e1b0fc0a78859ca357fe223b6dd2c8d1c4fe18037\n",
            "  Stored in directory: /root/.cache/pip/wheels/b5/47/7d/db68726417a2ca3ed6bdc904a1376e26774fad9ea72e0cc159\n",
            "Successfully built py-vollib py-lets-be-rational\n",
            "Installing collected packages: py-lets-be-rational, simplejson, py-vollib\n",
            "Successfully installed py-lets-be-rational-1.0.1 py-vollib-1.0.1 simplejson-3.17.3\n"
          ],
          "name": "stdout"
        }
      ]
    },
    {
      "cell_type": "code",
      "metadata": {
        "id": "s71SMI2y4B2l"
      },
      "source": [
        "import pandas as pd\n",
        "import matplotlib.pyplot as plt\n",
        "import numpy as np\n",
        "\n",
        "from datetime import datetime\n",
        "\n",
        "import warnings\n",
        "warnings.filterwarnings(\"ignore\")\n",
        "\n",
        "# to fetch data \n",
        "import yfinance as yf\n",
        "\n",
        "import scipy.stats as ss\n",
        "\n",
        "import py_vollib.black_scholes.greeks.analytical as derivatives\n",
        "\n",
        "import math"
      ],
      "execution_count": 2,
      "outputs": []
    },
    {
      "cell_type": "markdown",
      "metadata": {
        "id": "bjIfr8_lIxvb"
      },
      "source": [
        "# Hedging Futures Position\n"
      ]
    },
    {
      "cell_type": "markdown",
      "metadata": {
        "id": "0cP8yiAVI5H-"
      },
      "source": [
        "In this part I have coded for bull call spread on bank nifty data for 1 month managing the delta of 0.8 <br/>\n",
        "Also rather than buying at the money call option, I have bought bank nifty futures at the start of the month and I will hedge it by selling OTM call option."
      ]
    },
    {
      "cell_type": "markdown",
      "metadata": {
        "id": "gYNFiqYw4B2l"
      },
      "source": [
        "### Importing data"
      ]
    },
    {
      "cell_type": "code",
      "metadata": {
        "colab": {
          "base_uri": "https://localhost:8080/",
          "height": 345
        },
        "id": "7N5I-Km_4B2m",
        "outputId": "0bdc3f06-d2cb-4f37-8452-f582787004e5"
      },
      "source": [
        "df_fut = pd.read_csv('/content/FUTIDX_BANKNIFTY_28-May-2021_TO_24-Jun-2021.csv')  #Fill in with the address of where file is downloaded.\n",
        "df_fut.head()"
      ],
      "execution_count": 3,
      "outputs": [
        {
          "output_type": "execute_result",
          "data": {
            "text/html": [
              "<div>\n",
              "<style scoped>\n",
              "    .dataframe tbody tr th:only-of-type {\n",
              "        vertical-align: middle;\n",
              "    }\n",
              "\n",
              "    .dataframe tbody tr th {\n",
              "        vertical-align: top;\n",
              "    }\n",
              "\n",
              "    .dataframe thead th {\n",
              "        text-align: right;\n",
              "    }\n",
              "</style>\n",
              "<table border=\"1\" class=\"dataframe\">\n",
              "  <thead>\n",
              "    <tr style=\"text-align: right;\">\n",
              "      <th></th>\n",
              "      <th>Symbol</th>\n",
              "      <th>Date</th>\n",
              "      <th>Expiry</th>\n",
              "      <th>Open</th>\n",
              "      <th>High</th>\n",
              "      <th>Low</th>\n",
              "      <th>Close</th>\n",
              "      <th>LTP</th>\n",
              "      <th>Settle Price</th>\n",
              "      <th>No. of contracts</th>\n",
              "      <th>Turnover in Lacs</th>\n",
              "      <th>Open Int</th>\n",
              "      <th>Change in OI</th>\n",
              "      <th>Underlying Value</th>\n",
              "    </tr>\n",
              "  </thead>\n",
              "  <tbody>\n",
              "    <tr>\n",
              "      <th>0</th>\n",
              "      <td>BANKNIFTY</td>\n",
              "      <td>28-May-2021</td>\n",
              "      <td>24-Jun-2021</td>\n",
              "      <td>35499.00</td>\n",
              "      <td>35670.00</td>\n",
              "      <td>35150.00</td>\n",
              "      <td>35321.80</td>\n",
              "      <td>35394.05</td>\n",
              "      <td>35321.80</td>\n",
              "      <td>151658</td>\n",
              "      <td>1340811.02</td>\n",
              "      <td>1745000</td>\n",
              "      <td>27775</td>\n",
              "      <td>35141.45</td>\n",
              "    </tr>\n",
              "    <tr>\n",
              "      <th>1</th>\n",
              "      <td>BANKNIFTY</td>\n",
              "      <td>31-May-2021</td>\n",
              "      <td>24-Jun-2021</td>\n",
              "      <td>35280.00</td>\n",
              "      <td>35650.00</td>\n",
              "      <td>35063.15</td>\n",
              "      <td>35602.90</td>\n",
              "      <td>35578.25</td>\n",
              "      <td>35602.90</td>\n",
              "      <td>141916</td>\n",
              "      <td>1257088.18</td>\n",
              "      <td>1723450</td>\n",
              "      <td>-21550</td>\n",
              "      <td>-</td>\n",
              "    </tr>\n",
              "    <tr>\n",
              "      <th>2</th>\n",
              "      <td>BANKNIFTY</td>\n",
              "      <td>01-Jun-2021</td>\n",
              "      <td>24-Jun-2021</td>\n",
              "      <td>35677.95</td>\n",
              "      <td>35797.45</td>\n",
              "      <td>35313.95</td>\n",
              "      <td>35454.10</td>\n",
              "      <td>35470.00</td>\n",
              "      <td>35454.10</td>\n",
              "      <td>145631</td>\n",
              "      <td>1292727.92</td>\n",
              "      <td>1731125</td>\n",
              "      <td>7675</td>\n",
              "      <td>-</td>\n",
              "    </tr>\n",
              "    <tr>\n",
              "      <th>3</th>\n",
              "      <td>BANKNIFTY</td>\n",
              "      <td>02-Jun-2021</td>\n",
              "      <td>24-Jun-2021</td>\n",
              "      <td>35380.00</td>\n",
              "      <td>35560.00</td>\n",
              "      <td>35180.00</td>\n",
              "      <td>35524.25</td>\n",
              "      <td>35540.00</td>\n",
              "      <td>35524.25</td>\n",
              "      <td>113559</td>\n",
              "      <td>1003669.30</td>\n",
              "      <td>1700025</td>\n",
              "      <td>-31100</td>\n",
              "      <td>-</td>\n",
              "    </tr>\n",
              "    <tr>\n",
              "      <th>4</th>\n",
              "      <td>BANKNIFTY</td>\n",
              "      <td>03-Jun-2021</td>\n",
              "      <td>24-Jun-2021</td>\n",
              "      <td>35662.20</td>\n",
              "      <td>35890.00</td>\n",
              "      <td>35553.00</td>\n",
              "      <td>35781.95</td>\n",
              "      <td>35775.00</td>\n",
              "      <td>35781.95</td>\n",
              "      <td>121729</td>\n",
              "      <td>1086929.72</td>\n",
              "      <td>1690250</td>\n",
              "      <td>-9775</td>\n",
              "      <td>-</td>\n",
              "    </tr>\n",
              "  </tbody>\n",
              "</table>\n",
              "</div>"
            ],
            "text/plain": [
              "      Symbol         Date  ... Change in OI  Underlying Value \n",
              "0  BANKNIFTY  28-May-2021  ...        27775           35141.45\n",
              "1  BANKNIFTY  31-May-2021  ...       -21550                  -\n",
              "2  BANKNIFTY  01-Jun-2021  ...         7675                  -\n",
              "3  BANKNIFTY  02-Jun-2021  ...       -31100                  -\n",
              "4  BANKNIFTY  03-Jun-2021  ...        -9775                  -\n",
              "\n",
              "[5 rows x 14 columns]"
            ]
          },
          "metadata": {
            "tags": []
          },
          "execution_count": 3
        }
      ]
    },
    {
      "cell_type": "code",
      "metadata": {
        "colab": {
          "base_uri": "https://localhost:8080/",
          "height": 414
        },
        "id": "-omBeXcT4B2n",
        "outputId": "02a1b6b8-7a60-47f4-fedb-cc4dd0319693"
      },
      "source": [
        "df_call_36000 = pd.read_csv('/content/36kCE_OPTIDX_BANKNIFTY_CE_28-May-2021_TO_24-Jun-2021.csv')\n",
        "df_call_36000.head()"
      ],
      "execution_count": 4,
      "outputs": [
        {
          "output_type": "execute_result",
          "data": {
            "text/html": [
              "<div>\n",
              "<style scoped>\n",
              "    .dataframe tbody tr th:only-of-type {\n",
              "        vertical-align: middle;\n",
              "    }\n",
              "\n",
              "    .dataframe tbody tr th {\n",
              "        vertical-align: top;\n",
              "    }\n",
              "\n",
              "    .dataframe thead th {\n",
              "        text-align: right;\n",
              "    }\n",
              "</style>\n",
              "<table border=\"1\" class=\"dataframe\">\n",
              "  <thead>\n",
              "    <tr style=\"text-align: right;\">\n",
              "      <th></th>\n",
              "      <th>Symbol</th>\n",
              "      <th>Date</th>\n",
              "      <th>Expiry</th>\n",
              "      <th>Option Type</th>\n",
              "      <th>Strike Price</th>\n",
              "      <th>Open</th>\n",
              "      <th>High</th>\n",
              "      <th>Low</th>\n",
              "      <th>Close</th>\n",
              "      <th>LTP</th>\n",
              "      <th>Settle Price</th>\n",
              "      <th>No. of contracts</th>\n",
              "      <th>Turnover in Lacs</th>\n",
              "      <th>Premium Turnover in Lacs</th>\n",
              "      <th>Open Int</th>\n",
              "      <th>Change in OI</th>\n",
              "      <th>Underlying Value</th>\n",
              "    </tr>\n",
              "  </thead>\n",
              "  <tbody>\n",
              "    <tr>\n",
              "      <th>0</th>\n",
              "      <td>BANKNIFTY</td>\n",
              "      <td>28-May-2021</td>\n",
              "      <td>24-Jun-2021</td>\n",
              "      <td>CE</td>\n",
              "      <td>36000</td>\n",
              "      <td>849.95</td>\n",
              "      <td>924.50</td>\n",
              "      <td>665.60</td>\n",
              "      <td>730.80</td>\n",
              "      <td>743.30</td>\n",
              "      <td>730.80</td>\n",
              "      <td>26704</td>\n",
              "      <td>245464.26</td>\n",
              "      <td>5128.26</td>\n",
              "      <td>320700</td>\n",
              "      <td>116225</td>\n",
              "      <td>35141.45</td>\n",
              "    </tr>\n",
              "    <tr>\n",
              "      <th>1</th>\n",
              "      <td>BANKNIFTY</td>\n",
              "      <td>31-May-2021</td>\n",
              "      <td>24-Jun-2021</td>\n",
              "      <td>CE</td>\n",
              "      <td>36000</td>\n",
              "      <td>693.90</td>\n",
              "      <td>790.00</td>\n",
              "      <td>598.10</td>\n",
              "      <td>772.95</td>\n",
              "      <td>752.05</td>\n",
              "      <td>772.95</td>\n",
              "      <td>19525</td>\n",
              "      <td>179242.57</td>\n",
              "      <td>3517.57</td>\n",
              "      <td>331150</td>\n",
              "      <td>10450</td>\n",
              "      <td>-</td>\n",
              "    </tr>\n",
              "    <tr>\n",
              "      <th>2</th>\n",
              "      <td>BANKNIFTY</td>\n",
              "      <td>01-Jun-2021</td>\n",
              "      <td>24-Jun-2021</td>\n",
              "      <td>CE</td>\n",
              "      <td>36000</td>\n",
              "      <td>782.00</td>\n",
              "      <td>832.00</td>\n",
              "      <td>633.35</td>\n",
              "      <td>660.65</td>\n",
              "      <td>661.00</td>\n",
              "      <td>660.65</td>\n",
              "      <td>31536</td>\n",
              "      <td>289503.11</td>\n",
              "      <td>5679.11</td>\n",
              "      <td>313700</td>\n",
              "      <td>-17450</td>\n",
              "      <td>-</td>\n",
              "    </tr>\n",
              "    <tr>\n",
              "      <th>3</th>\n",
              "      <td>BANKNIFTY</td>\n",
              "      <td>02-Jun-2021</td>\n",
              "      <td>24-Jun-2021</td>\n",
              "      <td>CE</td>\n",
              "      <td>36000</td>\n",
              "      <td>575.50</td>\n",
              "      <td>625.95</td>\n",
              "      <td>533.85</td>\n",
              "      <td>612.70</td>\n",
              "      <td>606.85</td>\n",
              "      <td>612.70</td>\n",
              "      <td>19060</td>\n",
              "      <td>174293.32</td>\n",
              "      <td>2753.32</td>\n",
              "      <td>324475</td>\n",
              "      <td>10775</td>\n",
              "      <td>-</td>\n",
              "    </tr>\n",
              "    <tr>\n",
              "      <th>4</th>\n",
              "      <td>BANKNIFTY</td>\n",
              "      <td>03-Jun-2021</td>\n",
              "      <td>24-Jun-2021</td>\n",
              "      <td>CE</td>\n",
              "      <td>36000</td>\n",
              "      <td>659.05</td>\n",
              "      <td>753.90</td>\n",
              "      <td>596.50</td>\n",
              "      <td>698.40</td>\n",
              "      <td>696.00</td>\n",
              "      <td>698.40</td>\n",
              "      <td>24549</td>\n",
              "      <td>225062.12</td>\n",
              "      <td>4121.12</td>\n",
              "      <td>328425</td>\n",
              "      <td>3950</td>\n",
              "      <td>-</td>\n",
              "    </tr>\n",
              "  </tbody>\n",
              "</table>\n",
              "</div>"
            ],
            "text/plain": [
              "      Symbol         Date       Expiry  ... Open Int  Change in OI  Underlying Value\n",
              "0  BANKNIFTY  28-May-2021  24-Jun-2021  ...   320700        116225          35141.45\n",
              "1  BANKNIFTY  31-May-2021  24-Jun-2021  ...   331150         10450                 -\n",
              "2  BANKNIFTY  01-Jun-2021  24-Jun-2021  ...   313700        -17450                 -\n",
              "3  BANKNIFTY  02-Jun-2021  24-Jun-2021  ...   324475         10775                 -\n",
              "4  BANKNIFTY  03-Jun-2021  24-Jun-2021  ...   328425          3950                 -\n",
              "\n",
              "[5 rows x 17 columns]"
            ]
          },
          "metadata": {
            "tags": []
          },
          "execution_count": 4
        }
      ]
    },
    {
      "cell_type": "code",
      "metadata": {
        "colab": {
          "base_uri": "https://localhost:8080/",
          "height": 255
        },
        "id": "F0FrWHt74B2n",
        "outputId": "df684e9c-563a-49b4-b60b-1a90ec305c67"
      },
      "source": [
        "symbol = '^NSEBANK'\n",
        "end = '2021-06-25'\n",
        "start = '2021-05-28'\n",
        "\n",
        "\n",
        "# Read data \n",
        "df = yf.download(symbol, start, end)\n",
        "\n",
        "df.head()"
      ],
      "execution_count": 5,
      "outputs": [
        {
          "output_type": "stream",
          "text": [
            "\r[*********************100%***********************]  1 of 1 completed\n"
          ],
          "name": "stdout"
        },
        {
          "output_type": "execute_result",
          "data": {
            "text/html": [
              "<div>\n",
              "<style scoped>\n",
              "    .dataframe tbody tr th:only-of-type {\n",
              "        vertical-align: middle;\n",
              "    }\n",
              "\n",
              "    .dataframe tbody tr th {\n",
              "        vertical-align: top;\n",
              "    }\n",
              "\n",
              "    .dataframe thead th {\n",
              "        text-align: right;\n",
              "    }\n",
              "</style>\n",
              "<table border=\"1\" class=\"dataframe\">\n",
              "  <thead>\n",
              "    <tr style=\"text-align: right;\">\n",
              "      <th></th>\n",
              "      <th>Open</th>\n",
              "      <th>High</th>\n",
              "      <th>Low</th>\n",
              "      <th>Close</th>\n",
              "      <th>Adj Close</th>\n",
              "      <th>Volume</th>\n",
              "    </tr>\n",
              "    <tr>\n",
              "      <th>Date</th>\n",
              "      <th></th>\n",
              "      <th></th>\n",
              "      <th></th>\n",
              "      <th></th>\n",
              "      <th></th>\n",
              "      <th></th>\n",
              "    </tr>\n",
              "  </thead>\n",
              "  <tbody>\n",
              "    <tr>\n",
              "      <th>2021-05-28</th>\n",
              "      <td>35345.648438</td>\n",
              "      <td>35436.648438</td>\n",
              "      <td>34977.199219</td>\n",
              "      <td>35141.449219</td>\n",
              "      <td>35141.449219</td>\n",
              "      <td>0</td>\n",
              "    </tr>\n",
              "    <tr>\n",
              "      <th>2021-05-31</th>\n",
              "      <td>35097.449219</td>\n",
              "      <td>35584.300781</td>\n",
              "      <td>34930.101562</td>\n",
              "      <td>35526.648438</td>\n",
              "      <td>35526.648438</td>\n",
              "      <td>0</td>\n",
              "    </tr>\n",
              "    <tr>\n",
              "      <th>2021-06-01</th>\n",
              "      <td>35639.750000</td>\n",
              "      <td>35713.898438</td>\n",
              "      <td>35241.199219</td>\n",
              "      <td>35337.199219</td>\n",
              "      <td>35337.199219</td>\n",
              "      <td>0</td>\n",
              "    </tr>\n",
              "    <tr>\n",
              "      <th>2021-06-02</th>\n",
              "      <td>35271.601562</td>\n",
              "      <td>35415.851562</td>\n",
              "      <td>35070.300781</td>\n",
              "      <td>35373.750000</td>\n",
              "      <td>35373.750000</td>\n",
              "      <td>0</td>\n",
              "    </tr>\n",
              "    <tr>\n",
              "      <th>2021-06-03</th>\n",
              "      <td>35536.449219</td>\n",
              "      <td>35723.699219</td>\n",
              "      <td>35413.000000</td>\n",
              "      <td>35649.000000</td>\n",
              "      <td>35649.000000</td>\n",
              "      <td>0</td>\n",
              "    </tr>\n",
              "  </tbody>\n",
              "</table>\n",
              "</div>"
            ],
            "text/plain": [
              "                    Open          High  ...     Adj Close  Volume\n",
              "Date                                    ...                      \n",
              "2021-05-28  35345.648438  35436.648438  ...  35141.449219       0\n",
              "2021-05-31  35097.449219  35584.300781  ...  35526.648438       0\n",
              "2021-06-01  35639.750000  35713.898438  ...  35337.199219       0\n",
              "2021-06-02  35271.601562  35415.851562  ...  35373.750000       0\n",
              "2021-06-03  35536.449219  35723.699219  ...  35649.000000       0\n",
              "\n",
              "[5 rows x 6 columns]"
            ]
          },
          "metadata": {
            "tags": []
          },
          "execution_count": 5
        }
      ]
    },
    {
      "cell_type": "markdown",
      "metadata": {
        "id": "wiDJHwv-4B2o"
      },
      "source": [
        "### Calculation of annual volatility and time remainig for expiry used in calculation of delta"
      ]
    },
    {
      "cell_type": "code",
      "metadata": {
        "colab": {
          "base_uri": "https://localhost:8080/",
          "height": 255
        },
        "id": "BmIOpDK34B2o",
        "outputId": "cc7de4d9-97cf-426f-9708-31043de91c6d"
      },
      "source": [
        "symbol = '^NSEBANK'\n",
        "end = '2021-05-28'\n",
        "start = '2020-05-28'\n",
        "\n",
        "\n",
        "# Read data \n",
        "df_year = yf.download(symbol, start, end)\n",
        "\n",
        "df_year.tail()"
      ],
      "execution_count": 6,
      "outputs": [
        {
          "output_type": "stream",
          "text": [
            "\r[*********************100%***********************]  1 of 1 completed\n"
          ],
          "name": "stdout"
        },
        {
          "output_type": "execute_result",
          "data": {
            "text/html": [
              "<div>\n",
              "<style scoped>\n",
              "    .dataframe tbody tr th:only-of-type {\n",
              "        vertical-align: middle;\n",
              "    }\n",
              "\n",
              "    .dataframe tbody tr th {\n",
              "        vertical-align: top;\n",
              "    }\n",
              "\n",
              "    .dataframe thead th {\n",
              "        text-align: right;\n",
              "    }\n",
              "</style>\n",
              "<table border=\"1\" class=\"dataframe\">\n",
              "  <thead>\n",
              "    <tr style=\"text-align: right;\">\n",
              "      <th></th>\n",
              "      <th>Open</th>\n",
              "      <th>High</th>\n",
              "      <th>Low</th>\n",
              "      <th>Close</th>\n",
              "      <th>Adj Close</th>\n",
              "      <th>Volume</th>\n",
              "    </tr>\n",
              "    <tr>\n",
              "      <th>Date</th>\n",
              "      <th></th>\n",
              "      <th></th>\n",
              "      <th></th>\n",
              "      <th></th>\n",
              "      <th></th>\n",
              "      <th></th>\n",
              "    </tr>\n",
              "  </thead>\n",
              "  <tbody>\n",
              "    <tr>\n",
              "      <th>2021-05-21</th>\n",
              "      <td>33559.800781</td>\n",
              "      <td>34694.449219</td>\n",
              "      <td>33559.750000</td>\n",
              "      <td>34606.898438</td>\n",
              "      <td>34606.898438</td>\n",
              "      <td>0</td>\n",
              "    </tr>\n",
              "    <tr>\n",
              "      <th>2021-05-24</th>\n",
              "      <td>34869.300781</td>\n",
              "      <td>35216.101562</td>\n",
              "      <td>34528.300781</td>\n",
              "      <td>34943.601562</td>\n",
              "      <td>34943.601562</td>\n",
              "      <td>0</td>\n",
              "    </tr>\n",
              "    <tr>\n",
              "      <th>2021-05-25</th>\n",
              "      <td>35095.000000</td>\n",
              "      <td>35125.851562</td>\n",
              "      <td>34410.398438</td>\n",
              "      <td>34662.000000</td>\n",
              "      <td>34662.000000</td>\n",
              "      <td>0</td>\n",
              "    </tr>\n",
              "    <tr>\n",
              "      <th>2021-05-26</th>\n",
              "      <td>34757.148438</td>\n",
              "      <td>34897.949219</td>\n",
              "      <td>34462.500000</td>\n",
              "      <td>34684.199219</td>\n",
              "      <td>34684.199219</td>\n",
              "      <td>0</td>\n",
              "    </tr>\n",
              "    <tr>\n",
              "      <th>2021-05-27</th>\n",
              "      <td>34664.199219</td>\n",
              "      <td>35220.800781</td>\n",
              "      <td>34529.699219</td>\n",
              "      <td>35095.050781</td>\n",
              "      <td>35095.050781</td>\n",
              "      <td>0</td>\n",
              "    </tr>\n",
              "  </tbody>\n",
              "</table>\n",
              "</div>"
            ],
            "text/plain": [
              "                    Open          High  ...     Adj Close  Volume\n",
              "Date                                    ...                      \n",
              "2021-05-21  33559.800781  34694.449219  ...  34606.898438       0\n",
              "2021-05-24  34869.300781  35216.101562  ...  34943.601562       0\n",
              "2021-05-25  35095.000000  35125.851562  ...  34662.000000       0\n",
              "2021-05-26  34757.148438  34897.949219  ...  34684.199219       0\n",
              "2021-05-27  34664.199219  35220.800781  ...  35095.050781       0\n",
              "\n",
              "[5 rows x 6 columns]"
            ]
          },
          "metadata": {
            "tags": []
          },
          "execution_count": 6
        }
      ]
    },
    {
      "cell_type": "code",
      "metadata": {
        "id": "-7Fz77HB4B2p"
      },
      "source": [
        "ret = df_year['Close'].pct_change()[1:]"
      ],
      "execution_count": 7,
      "outputs": []
    },
    {
      "cell_type": "code",
      "metadata": {
        "colab": {
          "base_uri": "https://localhost:8080/"
        },
        "id": "Apzf8yOH4B2p",
        "outputId": "6a56af4d-3f91-4b02-a2cd-0228b701e822"
      },
      "source": [
        "ret.head()"
      ],
      "execution_count": 8,
      "outputs": [
        {
          "output_type": "execute_result",
          "data": {
            "text/plain": [
              "Date\n",
              "2020-05-29    0.006648\n",
              "2020-06-01    0.034339\n",
              "2020-06-02    0.028572\n",
              "2020-06-03    0.019995\n",
              "2020-06-04   -0.026277\n",
              "Name: Close, dtype: float64"
            ]
          },
          "metadata": {
            "tags": []
          },
          "execution_count": 8
        }
      ]
    },
    {
      "cell_type": "code",
      "metadata": {
        "colab": {
          "base_uri": "https://localhost:8080/"
        },
        "id": "1VE16TXS4B2q",
        "outputId": "ec41a66e-a9c3-46bc-fd5c-741ba87e621d"
      },
      "source": [
        "daily_vol = ret.std()\n",
        "daily_vol"
      ],
      "execution_count": 9,
      "outputs": [
        {
          "output_type": "execute_result",
          "data": {
            "text/plain": [
              "0.018580334637206992"
            ]
          },
          "metadata": {
            "tags": []
          },
          "execution_count": 9
        }
      ]
    },
    {
      "cell_type": "code",
      "metadata": {
        "colab": {
          "base_uri": "https://localhost:8080/"
        },
        "id": "fCH0TwPx4B2q",
        "outputId": "70804164-b788-4c6d-ff58-cd9b6b319035"
      },
      "source": [
        "vol = daily_vol*252**0.5\n",
        "vol"
      ],
      "execution_count": 10,
      "outputs": [
        {
          "output_type": "execute_result",
          "data": {
            "text/plain": [
              "0.2949536683584554"
            ]
          },
          "metadata": {
            "tags": []
          },
          "execution_count": 10
        }
      ]
    },
    {
      "cell_type": "code",
      "metadata": {
        "id": "qJe4gBpu4B2r"
      },
      "source": [
        "expiry = datetime.strptime('2021-06-24', '%Y-%m-%d')   #Expiry date"
      ],
      "execution_count": 11,
      "outputs": []
    },
    {
      "cell_type": "code",
      "metadata": {
        "colab": {
          "base_uri": "https://localhost:8080/"
        },
        "id": "z-loK4_F4B2r",
        "outputId": "cbb4921d-b584-4397-e80a-b70525e9b0f7"
      },
      "source": [
        "time = expiry-df.index    #Time left in days\n",
        "time"
      ],
      "execution_count": 12,
      "outputs": [
        {
          "output_type": "execute_result",
          "data": {
            "text/plain": [
              "TimedeltaIndex(['27 days', '24 days', '23 days', '22 days', '21 days',\n",
              "                '20 days', '17 days', '16 days', '15 days', '14 days',\n",
              "                '13 days', '10 days',  '9 days',  '8 days',  '7 days',\n",
              "                 '6 days',  '3 days',  '2 days',  '1 days',  '0 days'],\n",
              "               dtype='timedelta64[ns]', name='Date', freq=None)"
            ]
          },
          "metadata": {
            "tags": []
          },
          "execution_count": 12
        }
      ]
    },
    {
      "cell_type": "code",
      "metadata": {
        "colab": {
          "base_uri": "https://localhost:8080/"
        },
        "id": "AQnbDZ_R4B2r",
        "outputId": "8f30f4e8-0df5-4ed6-e2e7-89cdb6baf01d"
      },
      "source": [
        "time = pd.to_timedelta(time, errors='coerce').days  #Time left in days converted to int data type\n",
        "time"
      ],
      "execution_count": 13,
      "outputs": [
        {
          "output_type": "execute_result",
          "data": {
            "text/plain": [
              "Int64Index([27, 24, 23, 22, 21, 20, 17, 16, 15, 14, 13, 10, 9, 8, 7, 6, 3, 2,\n",
              "            1, 0],\n",
              "           dtype='int64', name='Date')"
            ]
          },
          "metadata": {
            "tags": []
          },
          "execution_count": 13
        }
      ]
    },
    {
      "cell_type": "markdown",
      "metadata": {
        "id": "sp1Y7ePq4B2s"
      },
      "source": [
        "### Initial buying and selling"
      ]
    },
    {
      "cell_type": "code",
      "metadata": {
        "id": "j3ifq8Wn4B2s"
      },
      "source": [
        "no_of_lots_fut = 10           #number of future lots I bought at start of the month\n",
        "buy_avg_future = df_fut['Open'][0]       #buying average of that lot\n",
        "lot_size = 25     #lot size of bank nifty\n",
        "delta = 1*no_of_lots_fut*lot_size    #taking delta of future is 1 as if banknifty changes by 1 the future would also change by 1\n",
        "delta_to_maintain = 0.8*no_of_lots_fut*lot_size    #I will maintain 0.8 delta per future contract"
      ],
      "execution_count": 14,
      "outputs": []
    },
    {
      "cell_type": "code",
      "metadata": {
        "colab": {
          "base_uri": "https://localhost:8080/"
        },
        "id": "Ol-AkW0_4B2s",
        "outputId": "f2bc91eb-30a2-4a95-fc67-ca7525f4b63f"
      },
      "source": [
        "flag = 'c'   #for call or put option\n",
        "S = df['Open'][0]    #price of the underlying\n",
        "K = 36000   #strike price\n",
        "t = time[0]/365   #time left to expiry in years\n",
        "sigma = vol   #volatility\n",
        "r = 0.06  #risk free rate\n",
        "delta_per_lot_call = derivatives.delta(flag, S, K, t, r, sigma)*lot_size   #to calculate delta per lot\n",
        "delta_per_lot_call"
      ],
      "execution_count": 15,
      "outputs": [
        {
          "output_type": "execute_result",
          "data": {
            "text/plain": [
              "11.175180281228103"
            ]
          },
          "metadata": {
            "tags": []
          },
          "execution_count": 15
        }
      ]
    },
    {
      "cell_type": "code",
      "metadata": {
        "colab": {
          "base_uri": "https://localhost:8080/"
        },
        "id": "B2LKKNAq4B2t",
        "outputId": "15f2aeb1-bda4-4c17-89c9-14b8fec34b37"
      },
      "source": [
        "delta_to_maintain"
      ],
      "execution_count": 16,
      "outputs": [
        {
          "output_type": "execute_result",
          "data": {
            "text/plain": [
              "200.0"
            ]
          },
          "metadata": {
            "tags": []
          },
          "execution_count": 16
        }
      ]
    },
    {
      "cell_type": "code",
      "metadata": {
        "colab": {
          "base_uri": "https://localhost:8080/"
        },
        "id": "JOtaKSXD4B2t",
        "outputId": "4e6d7d15-4c65-4e95-8790-9e08aaf69af5"
      },
      "source": [
        "delta"
      ],
      "execution_count": 17,
      "outputs": [
        {
          "output_type": "execute_result",
          "data": {
            "text/plain": [
              "250"
            ]
          },
          "metadata": {
            "tags": []
          },
          "execution_count": 17
        }
      ]
    },
    {
      "cell_type": "code",
      "metadata": {
        "id": "f1MvvACJ4B2u"
      },
      "source": [
        "number_of_lots_call = math.ceil((delta-delta_to_maintain)/delta_per_lot_call)  #number of call lots I have to sell to keep delta of 200"
      ],
      "execution_count": 18,
      "outputs": []
    },
    {
      "cell_type": "code",
      "metadata": {
        "colab": {
          "base_uri": "https://localhost:8080/"
        },
        "id": "roIoh4JH4B2u",
        "outputId": "5f62e504-f39c-4a4a-8d6a-671b83c1ed21"
      },
      "source": [
        "number_of_lots_call"
      ],
      "execution_count": 19,
      "outputs": [
        {
          "output_type": "execute_result",
          "data": {
            "text/plain": [
              "5"
            ]
          },
          "metadata": {
            "tags": []
          },
          "execution_count": 19
        }
      ]
    },
    {
      "cell_type": "code",
      "metadata": {
        "colab": {
          "base_uri": "https://localhost:8080/"
        },
        "id": "N8SnUaGc4B2u",
        "outputId": "348e90e9-52dd-4359-e0bd-6d8a80858f82"
      },
      "source": [
        "sell_avg_call = df_call_36000['Open'][0]  #selling avg of call \n",
        "sell_avg_call"
      ],
      "execution_count": 20,
      "outputs": [
        {
          "output_type": "execute_result",
          "data": {
            "text/plain": [
              "849.95"
            ]
          },
          "metadata": {
            "tags": []
          },
          "execution_count": 20
        }
      ]
    },
    {
      "cell_type": "markdown",
      "metadata": {
        "id": "QONku82j4B2v"
      },
      "source": [
        "### Managing delta"
      ]
    },
    {
      "cell_type": "code",
      "metadata": {
        "id": "hUOM2TJM4B2v"
      },
      "source": [
        "number_of_lots_call = math.ceil((delta-delta_to_maintain)/delta_per_lot_call)  #number of call lots I have to sell to keep delta of 200\n",
        "sell_avg_call = df_call_36000['Open'][0]  #selling avg of call \n",
        "profit= []\n",
        "\n",
        "for i in range(len(df)-1):\n",
        "    delta_per_lot_call = derivatives.delta(flag, df['Close'][i], 36000, time[i]/365, r, sigma)*lot_size  #Calculation of delta per lot at the next closing day\n",
        "    current_number_of_lots_call = math.ceil((delta-delta_to_maintain)/delta_per_lot_call)   #number of lots required to sell\n",
        "    no_of_lots_added = current_number_of_lots_call - number_of_lots_call   #number of lots added/subtracted for selling\n",
        "    sell_avg_call = (sell_avg_call*number_of_lots_call + no_of_lots_added*df_call_36000['Close'][i])/current_number_of_lots_call  #new selling avg of call\n",
        "    number_of_lots_call = current_number_of_lots_call    #updating number of lots of calls sold\n",
        "    profit.append((df_fut['Close'][i]-buy_avg_future)*no_of_lots_fut*lot_size + (sell_avg_call-df_call_36000['Close'][i])*lot_size*number_of_lots_call)  #unrealised profit "
      ],
      "execution_count": 21,
      "outputs": []
    },
    {
      "cell_type": "code",
      "metadata": {
        "id": "6hOJpwuD4B2w",
        "colab": {
          "base_uri": "https://localhost:8080/"
        },
        "outputId": "f4662956-1148-4382-f702-03016ba68cca"
      },
      "source": [
        "number_of_lots_call"
      ],
      "execution_count": 22,
      "outputs": [
        {
          "output_type": "execute_result",
          "data": {
            "text/plain": [
              "429"
            ]
          },
          "metadata": {
            "tags": []
          },
          "execution_count": 22
        }
      ]
    },
    {
      "cell_type": "code",
      "metadata": {
        "id": "SLHD0IuC4B2w",
        "colab": {
          "base_uri": "https://localhost:8080/"
        },
        "outputId": "9b1bab88-7d24-45b4-d02d-30f2e1db6e7a"
      },
      "source": [
        "sell_avg_call"
      ],
      "execution_count": 23,
      "outputs": [
        {
          "output_type": "execute_result",
          "data": {
            "text/plain": [
              "20.093822843822842"
            ]
          },
          "metadata": {
            "tags": []
          },
          "execution_count": 23
        }
      ]
    },
    {
      "cell_type": "code",
      "metadata": {
        "id": "iKgJ9EHt4B2x",
        "colab": {
          "base_uri": "https://localhost:8080/"
        },
        "outputId": "330a78ec-799b-4667-fab3-9f24ba2c31f5"
      },
      "source": [
        "delta_per_lot_call"
      ],
      "execution_count": 24,
      "outputs": [
        {
          "output_type": "execute_result",
          "data": {
            "text/plain": [
              "0.1166812047191243"
            ]
          },
          "metadata": {
            "tags": []
          },
          "execution_count": 24
        }
      ]
    },
    {
      "cell_type": "code",
      "metadata": {
        "id": "Fs14GB6g4B2x",
        "colab": {
          "base_uri": "https://localhost:8080/"
        },
        "outputId": "fc8cb351-9136-41fd-c4d6-a54186585420"
      },
      "source": [
        "profit"
      ],
      "execution_count": 25,
      "outputs": [
        {
          "output_type": "execute_result",
          "data": {
            "text/plain": [
              "[-29406.24999999926,\n",
              " 35600.000000000364,\n",
              " 12437.499999999643,\n",
              " 35968.75,\n",
              " 89681.24999999927,\n",
              " 39975.00000000001,\n",
              " 69912.49999999927,\n",
              " 4175.00000000072,\n",
              " -62645.000000000364,\n",
              " 9101.249999999622,\n",
              " -5668.750000000378,\n",
              " -21171.250000000364,\n",
              " 39702.50000000038,\n",
              " -8762.50000000035,\n",
              " -95720.0000000007,\n",
              " -109927.49999999997,\n",
              " -29100.00000000032,\n",
              " -58271.24999999923,\n",
              " -93141.24999999967]"
            ]
          },
          "metadata": {
            "tags": []
          },
          "execution_count": 25
        }
      ]
    },
    {
      "cell_type": "code",
      "metadata": {
        "id": "gy4ONA-V4B2x",
        "colab": {
          "base_uri": "https://localhost:8080/",
          "height": 283
        },
        "outputId": "fa1319c3-448b-4639-8a7a-50070ad38912"
      },
      "source": [
        "plt.plot(profit, label = 'strategy_profit')\n",
        "plt.plot((df_fut['Close']-df_fut['Open'][0])*250, label = 'futures_profit')\n",
        "plt.legend()"
      ],
      "execution_count": 26,
      "outputs": [
        {
          "output_type": "execute_result",
          "data": {
            "text/plain": [
              "<matplotlib.legend.Legend at 0x7fe3176d41d0>"
            ]
          },
          "metadata": {
            "tags": []
          },
          "execution_count": 26
        },
        {
          "output_type": "display_data",
          "data": {
            "image/png": "[encoded data removed]",
            "text/plain": [
              "<Figure size 432x288 with 1 Axes>"
            ]
          },
          "metadata": {
            "tags": [],
            "needs_background": "light"
          }
        }
      ]
    },
    {
      "cell_type": "markdown",
      "metadata": {
        "id": "wg9Xw98O4B2y"
      },
      "source": [
        "As you can see from the above graph of the strategy that though the futures did fall very down, I was able to hedge this with selling of call option and our strategy did give better returns overall<br/>"
      ]
    },
    {
      "cell_type": "markdown",
      "metadata": {
        "id": "A-F12xcT4B2y"
      },
      "source": [
        "# Short strangle with delta hedging"
      ]
    },
    {
      "cell_type": "markdown",
      "metadata": {
        "id": "bPe6qtGQ4B2z"
      },
      "source": [
        "I will only use 35000 puts and calls for this strategy.<br/>\n",
        "Initially I will sell 10 lots of puts and correspondingly sell x lots of calls such that the delta becomes 0.<br/>\n",
        "Then manage the delta accordingly by just selling or buying call options and not changing the number of put options sold.<br/>\n",
        "Also, I will plot the profit graph on whole data and see the results.<br/>"
      ]
    },
    {
      "cell_type": "markdown",
      "metadata": {
        "id": "TeLOleWw4B2z"
      },
      "source": [
        "### Importing data"
      ]
    },
    {
      "cell_type": "code",
      "metadata": {
        "id": "Ndr_2yHY4B2z",
        "colab": {
          "base_uri": "https://localhost:8080/",
          "height": 434
        },
        "outputId": "812cde7c-353b-4342-9ea0-94380c558cb1"
      },
      "source": [
        "df_call_35000 = pd.read_csv('/content/35kCE_OPTIDX_BANKNIFTY_CE_28-May-2021_TO_24-Jun-2021_1.csv')\n",
        "df_call_35000.head()"
      ],
      "execution_count": 27,
      "outputs": [
        {
          "output_type": "execute_result",
          "data": {
            "text/html": [
              "<div>\n",
              "<style scoped>\n",
              "    .dataframe tbody tr th:only-of-type {\n",
              "        vertical-align: middle;\n",
              "    }\n",
              "\n",
              "    .dataframe tbody tr th {\n",
              "        vertical-align: top;\n",
              "    }\n",
              "\n",
              "    .dataframe thead th {\n",
              "        text-align: right;\n",
              "    }\n",
              "</style>\n",
              "<table border=\"1\" class=\"dataframe\">\n",
              "  <thead>\n",
              "    <tr style=\"text-align: right;\">\n",
              "      <th></th>\n",
              "      <th>Symbol</th>\n",
              "      <th>Date</th>\n",
              "      <th>Expiry</th>\n",
              "      <th>Option Type</th>\n",
              "      <th>Strike Price</th>\n",
              "      <th>Open</th>\n",
              "      <th>High</th>\n",
              "      <th>Low</th>\n",
              "      <th>Close</th>\n",
              "      <th>LTP</th>\n",
              "      <th>Settle Price</th>\n",
              "      <th>No. of contracts</th>\n",
              "      <th>Turnover in Lacs</th>\n",
              "      <th>Premium Turnover in Lacs</th>\n",
              "      <th>Open Int</th>\n",
              "      <th>Change in OI</th>\n",
              "      <th>Underlying Value</th>\n",
              "    </tr>\n",
              "  </thead>\n",
              "  <tbody>\n",
              "    <tr>\n",
              "      <th>0</th>\n",
              "      <td>BANKNIFTY</td>\n",
              "      <td>28-May-2021</td>\n",
              "      <td>24-Jun-2021</td>\n",
              "      <td>CE</td>\n",
              "      <td>35000</td>\n",
              "      <td>1394.65</td>\n",
              "      <td>1459.5</td>\n",
              "      <td>1132.0</td>\n",
              "      <td>1213.55</td>\n",
              "      <td>1224.50</td>\n",
              "      <td>1213.55</td>\n",
              "      <td>18138</td>\n",
              "      <td>164479.84</td>\n",
              "      <td>5772.34</td>\n",
              "      <td>283425</td>\n",
              "      <td>39000</td>\n",
              "      <td>35141.45</td>\n",
              "    </tr>\n",
              "    <tr>\n",
              "      <th>1</th>\n",
              "      <td>BANKNIFTY</td>\n",
              "      <td>31-May-2021</td>\n",
              "      <td>24-Jun-2021</td>\n",
              "      <td>CE</td>\n",
              "      <td>35000</td>\n",
              "      <td>1197.95</td>\n",
              "      <td>1339.0</td>\n",
              "      <td>1021.6</td>\n",
              "      <td>1308.30</td>\n",
              "      <td>1281.95</td>\n",
              "      <td>1308.30</td>\n",
              "      <td>14456</td>\n",
              "      <td>130864.56</td>\n",
              "      <td>4374.56</td>\n",
              "      <td>245275</td>\n",
              "      <td>-38150</td>\n",
              "      <td>-</td>\n",
              "    </tr>\n",
              "    <tr>\n",
              "      <th>2</th>\n",
              "      <td>BANKNIFTY</td>\n",
              "      <td>01-Jun-2021</td>\n",
              "      <td>24-Jun-2021</td>\n",
              "      <td>CE</td>\n",
              "      <td>35000</td>\n",
              "      <td>1291.90</td>\n",
              "      <td>1398.0</td>\n",
              "      <td>1112.3</td>\n",
              "      <td>1155.05</td>\n",
              "      <td>1163.00</td>\n",
              "      <td>1155.05</td>\n",
              "      <td>15231</td>\n",
              "      <td>137967.95</td>\n",
              "      <td>4696.70</td>\n",
              "      <td>345025</td>\n",
              "      <td>99750</td>\n",
              "      <td>-</td>\n",
              "    </tr>\n",
              "    <tr>\n",
              "      <th>3</th>\n",
              "      <td>BANKNIFTY</td>\n",
              "      <td>02-Jun-2021</td>\n",
              "      <td>24-Jun-2021</td>\n",
              "      <td>CE</td>\n",
              "      <td>35000</td>\n",
              "      <td>1099.30</td>\n",
              "      <td>1145.7</td>\n",
              "      <td>982.5</td>\n",
              "      <td>1128.05</td>\n",
              "      <td>1122.00</td>\n",
              "      <td>1128.05</td>\n",
              "      <td>12258</td>\n",
              "      <td>110507.46</td>\n",
              "      <td>3249.96</td>\n",
              "      <td>342375</td>\n",
              "      <td>-2650</td>\n",
              "      <td>-</td>\n",
              "    </tr>\n",
              "    <tr>\n",
              "      <th>4</th>\n",
              "      <td>BANKNIFTY</td>\n",
              "      <td>03-Jun-2021</td>\n",
              "      <td>24-Jun-2021</td>\n",
              "      <td>CE</td>\n",
              "      <td>35000</td>\n",
              "      <td>1163.20</td>\n",
              "      <td>1342.5</td>\n",
              "      <td>1111.7</td>\n",
              "      <td>1265.45</td>\n",
              "      <td>1270.00</td>\n",
              "      <td>1265.45</td>\n",
              "      <td>7511</td>\n",
              "      <td>68025.76</td>\n",
              "      <td>2304.51</td>\n",
              "      <td>307825</td>\n",
              "      <td>-34550</td>\n",
              "      <td>-</td>\n",
              "    </tr>\n",
              "  </tbody>\n",
              "</table>\n",
              "</div>"
            ],
            "text/plain": [
              "      Symbol         Date       Expiry  ... Open Int  Change in OI  Underlying Value\n",
              "0  BANKNIFTY  28-May-2021  24-Jun-2021  ...   283425         39000          35141.45\n",
              "1  BANKNIFTY  31-May-2021  24-Jun-2021  ...   245275        -38150                 -\n",
              "2  BANKNIFTY  01-Jun-2021  24-Jun-2021  ...   345025         99750                 -\n",
              "3  BANKNIFTY  02-Jun-2021  24-Jun-2021  ...   342375         -2650                 -\n",
              "4  BANKNIFTY  03-Jun-2021  24-Jun-2021  ...   307825        -34550                 -\n",
              "\n",
              "[5 rows x 17 columns]"
            ]
          },
          "metadata": {
            "tags": []
          },
          "execution_count": 27
        }
      ]
    },
    {
      "cell_type": "code",
      "metadata": {
        "id": "VOkxU15s4B20",
        "colab": {
          "base_uri": "https://localhost:8080/",
          "height": 414
        },
        "outputId": "ccdc4e44-1202-49ed-e333-ce4787ec67e9"
      },
      "source": [
        "df_put_35000 = pd.read_csv('/content/35kPE_OPTIDX_BANKNIFTY_PE_28-May-2021_TO_24-Jun-2021.csv')\n",
        "df_put_35000.head()"
      ],
      "execution_count": 28,
      "outputs": [
        {
          "output_type": "execute_result",
          "data": {
            "text/html": [
              "<div>\n",
              "<style scoped>\n",
              "    .dataframe tbody tr th:only-of-type {\n",
              "        vertical-align: middle;\n",
              "    }\n",
              "\n",
              "    .dataframe tbody tr th {\n",
              "        vertical-align: top;\n",
              "    }\n",
              "\n",
              "    .dataframe thead th {\n",
              "        text-align: right;\n",
              "    }\n",
              "</style>\n",
              "<table border=\"1\" class=\"dataframe\">\n",
              "  <thead>\n",
              "    <tr style=\"text-align: right;\">\n",
              "      <th></th>\n",
              "      <th>Symbol</th>\n",
              "      <th>Date</th>\n",
              "      <th>Expiry</th>\n",
              "      <th>Option Type</th>\n",
              "      <th>Strike Price</th>\n",
              "      <th>Open</th>\n",
              "      <th>High</th>\n",
              "      <th>Low</th>\n",
              "      <th>Close</th>\n",
              "      <th>LTP</th>\n",
              "      <th>Settle Price</th>\n",
              "      <th>No. of contracts</th>\n",
              "      <th>Turnover in Lacs</th>\n",
              "      <th>Premium Turnover in Lacs</th>\n",
              "      <th>Open Int</th>\n",
              "      <th>Change in OI</th>\n",
              "      <th>Underlying Value</th>\n",
              "    </tr>\n",
              "  </thead>\n",
              "  <tbody>\n",
              "    <tr>\n",
              "      <th>0</th>\n",
              "      <td>BANKNIFTY</td>\n",
              "      <td>28-May-2021</td>\n",
              "      <td>24-Jun-2021</td>\n",
              "      <td>PE</td>\n",
              "      <td>35000</td>\n",
              "      <td>940.00</td>\n",
              "      <td>984.85</td>\n",
              "      <td>820.20</td>\n",
              "      <td>907.15</td>\n",
              "      <td>856.0</td>\n",
              "      <td>907.15</td>\n",
              "      <td>30957</td>\n",
              "      <td>277944.81</td>\n",
              "      <td>7071.06</td>\n",
              "      <td>217275</td>\n",
              "      <td>-3850</td>\n",
              "      <td>35141.45</td>\n",
              "    </tr>\n",
              "    <tr>\n",
              "      <th>1</th>\n",
              "      <td>BANKNIFTY</td>\n",
              "      <td>31-May-2021</td>\n",
              "      <td>24-Jun-2021</td>\n",
              "      <td>PE</td>\n",
              "      <td>35000</td>\n",
              "      <td>886.00</td>\n",
              "      <td>975.50</td>\n",
              "      <td>690.45</td>\n",
              "      <td>706.40</td>\n",
              "      <td>713.9</td>\n",
              "      <td>706.40</td>\n",
              "      <td>22393</td>\n",
              "      <td>200373.31</td>\n",
              "      <td>4434.56</td>\n",
              "      <td>215875</td>\n",
              "      <td>-1400</td>\n",
              "      <td>-</td>\n",
              "    </tr>\n",
              "    <tr>\n",
              "      <th>2</th>\n",
              "      <td>BANKNIFTY</td>\n",
              "      <td>01-Jun-2021</td>\n",
              "      <td>24-Jun-2021</td>\n",
              "      <td>PE</td>\n",
              "      <td>35000</td>\n",
              "      <td>682.35</td>\n",
              "      <td>795.25</td>\n",
              "      <td>605.40</td>\n",
              "      <td>701.25</td>\n",
              "      <td>697.0</td>\n",
              "      <td>701.25</td>\n",
              "      <td>22207</td>\n",
              "      <td>198214.51</td>\n",
              "      <td>3903.26</td>\n",
              "      <td>245775</td>\n",
              "      <td>29900</td>\n",
              "      <td>-</td>\n",
              "    </tr>\n",
              "    <tr>\n",
              "      <th>3</th>\n",
              "      <td>BANKNIFTY</td>\n",
              "      <td>02-Jun-2021</td>\n",
              "      <td>24-Jun-2021</td>\n",
              "      <td>PE</td>\n",
              "      <td>35000</td>\n",
              "      <td>747.50</td>\n",
              "      <td>799.95</td>\n",
              "      <td>581.80</td>\n",
              "      <td>601.55</td>\n",
              "      <td>587.7</td>\n",
              "      <td>601.55</td>\n",
              "      <td>18375</td>\n",
              "      <td>164002.20</td>\n",
              "      <td>3220.95</td>\n",
              "      <td>235300</td>\n",
              "      <td>-10475</td>\n",
              "      <td>-</td>\n",
              "    </tr>\n",
              "    <tr>\n",
              "      <th>4</th>\n",
              "      <td>BANKNIFTY</td>\n",
              "      <td>03-Jun-2021</td>\n",
              "      <td>24-Jun-2021</td>\n",
              "      <td>PE</td>\n",
              "      <td>35000</td>\n",
              "      <td>486.50</td>\n",
              "      <td>564.00</td>\n",
              "      <td>447.15</td>\n",
              "      <td>484.85</td>\n",
              "      <td>489.0</td>\n",
              "      <td>484.85</td>\n",
              "      <td>19913</td>\n",
              "      <td>176748.22</td>\n",
              "      <td>2509.47</td>\n",
              "      <td>217500</td>\n",
              "      <td>-17800</td>\n",
              "      <td>-</td>\n",
              "    </tr>\n",
              "  </tbody>\n",
              "</table>\n",
              "</div>"
            ],
            "text/plain": [
              "      Symbol         Date       Expiry  ... Open Int  Change in OI  Underlying Value\n",
              "0  BANKNIFTY  28-May-2021  24-Jun-2021  ...   217275         -3850          35141.45\n",
              "1  BANKNIFTY  31-May-2021  24-Jun-2021  ...   215875         -1400                 -\n",
              "2  BANKNIFTY  01-Jun-2021  24-Jun-2021  ...   245775         29900                 -\n",
              "3  BANKNIFTY  02-Jun-2021  24-Jun-2021  ...   235300        -10475                 -\n",
              "4  BANKNIFTY  03-Jun-2021  24-Jun-2021  ...   217500        -17800                 -\n",
              "\n",
              "[5 rows x 17 columns]"
            ]
          },
          "metadata": {
            "tags": []
          },
          "execution_count": 28
        }
      ]
    },
    {
      "cell_type": "markdown",
      "metadata": {
        "id": "QpAAIXli4B20"
      },
      "source": [
        "### Initialising everything required to calculate delta"
      ]
    },
    {
      "cell_type": "code",
      "metadata": {
        "id": "6JikgYEa4B20"
      },
      "source": [
        "#Assume I am starting the strategy at the opening time of 28th May\n",
        "S = df['Open'][0]    #price of the underlying\n",
        "K = 35000   #strike price\n",
        "t = time[0]/365   #time left to expiry in years\n",
        "sigma = vol   #volatility\n",
        "r = 0.06  #risk free rate\n",
        "delta_to_maintain = 0"
      ],
      "execution_count": 29,
      "outputs": []
    },
    {
      "cell_type": "markdown",
      "metadata": {
        "id": "RMP39L494B21"
      },
      "source": [
        "### Initial selling"
      ]
    },
    {
      "cell_type": "code",
      "metadata": {
        "id": "8LoB2gbt4B21"
      },
      "source": [
        "no_of_lots_put = 10      #number of lots of put sold\n",
        "sell_avg_put = df_put_35000['Open'][0]   #selling average of seeling those lots\n",
        "lot_size = 25\n",
        "delta = derivatives.delta('p', S, K, t, r, sigma)*no_of_lots_put*lot_size  #total delta after selling 250 quantities of put"
      ],
      "execution_count": 30,
      "outputs": []
    },
    {
      "cell_type": "code",
      "metadata": {
        "id": "yF7B1hfB4B21",
        "colab": {
          "base_uri": "https://localhost:8080/"
        },
        "outputId": "7607754b-76e3-4081-ef85-a8582ad35f96"
      },
      "source": [
        "delta"
      ],
      "execution_count": 31,
      "outputs": [
        {
          "output_type": "execute_result",
          "data": {
            "text/plain": [
              "-103.43461645722918"
            ]
          },
          "metadata": {
            "tags": []
          },
          "execution_count": 31
        }
      ]
    },
    {
      "cell_type": "code",
      "metadata": {
        "id": "hydQFFie4B22",
        "colab": {
          "base_uri": "https://localhost:8080/"
        },
        "outputId": "b2a1bf9c-4fc3-48cd-9f90-38baacc4ee1e"
      },
      "source": [
        "delta_per_lot_call = derivatives.delta('c', S, K, t, r, sigma)*lot_size  #delta per lot of call,i.e, delta of 25 quantities\n",
        "delta_per_lot_call"
      ],
      "execution_count": 32,
      "outputs": [
        {
          "output_type": "execute_result",
          "data": {
            "text/plain": [
              "14.656538354277082"
            ]
          },
          "metadata": {
            "tags": []
          },
          "execution_count": 32
        }
      ]
    },
    {
      "cell_type": "code",
      "metadata": {
        "id": "KOXNhu3J4B22",
        "colab": {
          "base_uri": "https://localhost:8080/"
        },
        "outputId": "ccd06697-f632-4a33-cfeb-5f0d42380038"
      },
      "source": [
        "number_of_lots_call = math.ceil((delta_to_maintain-delta)/delta_per_lot_call)   #number of lots of call to be sold\n",
        "number_of_lots_call"
      ],
      "execution_count": 33,
      "outputs": [
        {
          "output_type": "execute_result",
          "data": {
            "text/plain": [
              "8"
            ]
          },
          "metadata": {
            "tags": []
          },
          "execution_count": 33
        }
      ]
    },
    {
      "cell_type": "code",
      "metadata": {
        "id": "JMNbDkDN4B22",
        "colab": {
          "base_uri": "https://localhost:8080/"
        },
        "outputId": "519f4e1f-82a9-4357-84a2-38c8083d6fe8"
      },
      "source": [
        "sell_avg_call = df_call_35000['Open'][0]   #selling average of that call options sold\n",
        "sell_avg_call"
      ],
      "execution_count": 34,
      "outputs": [
        {
          "output_type": "execute_result",
          "data": {
            "text/plain": [
              "1394.65"
            ]
          },
          "metadata": {
            "tags": []
          },
          "execution_count": 34
        }
      ]
    },
    {
      "cell_type": "markdown",
      "metadata": {
        "id": "By0R44uP4B23"
      },
      "source": [
        "### Delta Management"
      ]
    },
    {
      "cell_type": "code",
      "metadata": {
        "id": "u8-Gz55r4B23"
      },
      "source": [
        "number_of_lots_call =  math.ceil((delta_to_maintain-delta)/delta_per_lot_call)   #number of call lots to be sold\n",
        "sell_avg_call = df_call_35000['Open'][0]   #selling average\n",
        "profit = []\n",
        "\n",
        "#Write the code for delta management\n",
        "for i in range(len(df)-1):\n",
        "    #Calculation of delta per lot at the next closing day\n",
        "    delta_per_lot_call = derivatives.delta('c', df['Close'][i], 35000, time[i]/365, r, sigma)*lot_size\n",
        "    delta_per_lot_put = derivatives.delta('p', df['Close'][i], 35000, time[i]/365, r, sigma)*lot_size\n",
        "\n",
        "    #Calculation of delta of puts\n",
        "    delta = no_of_lots_put*delta_per_lot_put\n",
        "\n",
        "    current_number_of_lots_call = math.ceil((delta_to_maintain-delta)/delta_per_lot_call)  #number of lots required to sell\n",
        "    no_of_lots_added = current_number_of_lots_call - number_of_lots_call   #number of lots added/subtracted for selling\n",
        "    sell_avg_call = (sell_avg_call*number_of_lots_call + no_of_lots_added*df_call_35000['Close'][i])/current_number_of_lots_call  #new selling avg of call\n",
        "    number_of_lots_call = current_number_of_lots_call\n",
        "    profit.append((sell_avg_put-df_put_35000['Close'][i])*lot_size*no_of_lots_put + (sell_avg_call-df_call_35000['Close'][i])*lot_size*number_of_lots_call)"
      ],
      "execution_count": 35,
      "outputs": []
    },
    {
      "cell_type": "code",
      "metadata": {
        "id": "oNChdkV44B24"
      },
      "source": [
        "profit.append((sell_avg_put-df_put_35000['Close'][len(df)-1])*lot_size*no_of_lots_put + (sell_avg_call-df_call_35000['Close'][len(df)-1])*lot_size*number_of_lots_call)  #profit at the expiry as at expiry delta is not done and therefore cannot be calculated in the above loop"
      ],
      "execution_count": 36,
      "outputs": []
    },
    {
      "cell_type": "code",
      "metadata": {
        "id": "5FGB1AHu4B24",
        "colab": {
          "base_uri": "https://localhost:8080/"
        },
        "outputId": "21efb3c7-1e98-40b3-96ef-acea1830f60e"
      },
      "source": [
        "profit"
      ],
      "execution_count": 37,
      "outputs": [
        {
          "output_type": "execute_result",
          "data": {
            "text/plain": [
              "[44432.50000000004,\n",
              " 75670.00000000006,\n",
              " 103776.25000000003,\n",
              " 134101.25000000006,\n",
              " 139231.25,\n",
              " 155336.25,\n",
              " 173938.75000000006,\n",
              " 204183.75,\n",
              " 212380.0,\n",
              " 215035.00000000003,\n",
              " 239940.0,\n",
              " 267456.25,\n",
              " 274581.25000000006,\n",
              " 281151.25,\n",
              " 303076.25,\n",
              " 332570.00000000006,\n",
              " 369955.0,\n",
              " 391562.5,\n",
              " 416448.75,\n",
              " 522823.75000000006]"
            ]
          },
          "metadata": {
            "tags": []
          },
          "execution_count": 37
        }
      ]
    },
    {
      "cell_type": "code",
      "metadata": {
        "id": "BVQt77yb4B24",
        "colab": {
          "base_uri": "https://localhost:8080/",
          "height": 283
        },
        "outputId": "71fc7361-a12d-410d-cac2-6802acd372ed"
      },
      "source": [
        "#Plot the profit graph\n",
        "plt.plot(profit, label = 'strategy_profit')\n",
        "plt.legend()"
      ],
      "execution_count": 38,
      "outputs": [
        {
          "output_type": "execute_result",
          "data": {
            "text/plain": [
              "<matplotlib.legend.Legend at 0x7fe31770c750>"
            ]
          },
          "metadata": {
            "tags": []
          },
          "execution_count": 38
        },
        {
          "output_type": "display_data",
          "data": {
            "image/png": "[encoded data removed]",
            "text/plain": [
              "<Figure size 432x288 with 1 Axes>"
            ]
          },
          "metadata": {
            "tags": [],
            "needs_background": "light"
          }
        }
      ]
    },
    {
      "cell_type": "markdown",
      "metadata": {
        "id": "goVCZhHK4B25"
      },
      "source": [
        "See the results you get by selling calls and puts and just managing delta at end of day"
      ]
    }
  ]
}